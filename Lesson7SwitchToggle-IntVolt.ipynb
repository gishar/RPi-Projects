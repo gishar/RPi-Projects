{
 "cells": [
  {
   "cell_type": "markdown",
   "id": "37c39eed",
   "metadata": {},
   "source": [
    "# Making a toggle switch\n",
    "Based on the understanding we have of the pull down or pull up resistors, this home work is to use the RP internal voltage source in the GPIO setup (pull up resistor); but this time, every time the switch is pressed it will turn the LED on or off. The switch will toggle between on and off."
   ]
  },
  {
   "cell_type": "markdown",
   "id": "b630e906",
   "metadata": {},
   "source": [
    "We need to configure the Raspberry Pi to specify whether a particular GPIO pin will function as an input or output. In our specific scenario:\n",
    "GPIO pin 40 is designated to receive voltage, achieved through an internal Pi pull-up resistor implemented in the code. Therefore, it functions as an input pin. \n",
    "We configure GPIO pin 40 using a GPIO setup option to establish a consistent voltage source. We set the voltage to 1, indicating a pull-up resistor is active. \n",
    "In this configuration, when the switch is in the \"up\" position, pin 40 reads a 1. As long as it reads 1, we keep the light off. \n",
    "When the switch is pressed, causing pin 40 to detect ground and read a 0, we trigger the output circuit to turn the light on and keep it on even after the switch is released. \n",
    "Then the next time switch is pressed, it will have to turn it off, and so on. \n",
    "\n",
    "GPIO pin 38 is designated to send voltage, making it an output pin. \n",
    "These assignments should be reversed or reset once the work or project is completed to free up the pins and remove any preset functions assigned to them."
   ]
  },
  {
   "cell_type": "code",
   "execution_count": 8,
   "id": "0e51d893",
   "metadata": {},
   "outputs": [
    {
     "name": "stdout",
     "output_type": "stream",
     "text": [
      " Bam! That is it folks!\n"
     ]
    }
   ],
   "source": [
    "import RPi.GPIO as GPIO  # import the GPIO library\n",
    "GPIO.setmode(GPIO.BOARD) # setup the mode for the GPIO numbering system to use the Board conventionl\n",
    "Input_Pin = 40\n",
    "Output_Pin = 38\n",
    "GPIO.setup(Input_Pin, GPIO.IN, pull_up_down=GPIO.PUD_UP) \n",
    "GPIO.setup(Output_Pin, GPIO.OUT) \n",
    "try:\n",
    "    toggler = 0  # Initializing the variable outside the loop\n",
    "    while True:\n",
    "        read_value = GPIO.input(Input_Pin)\n",
    "\n",
    "        if GPIO.input(Output_Pin) == 0:\n",
    "            if read_value == 0:\n",
    "                toggler = 1\n",
    "            if toggler == 1 and read_value == 1:\n",
    "                GPIO.output(Output_Pin, 1)\n",
    "\n",
    "        else:  # if GPIO.input(Output_Pin) == 1:\n",
    "            if read_value == 0:\n",
    "                toggler = 0\n",
    "            if toggler == 0 and read_value == 1:\n",
    "                GPIO.output(Output_Pin, 0)\n",
    "\n",
    "except KeyboardInterrupt:  # to exit the program properly\n",
    "    # Cleanup GPIO pins when user interrupts the kernel (using button on the toolbar, maybe)\n",
    "    GPIO.cleanup()\n",
    "    print(' Bam! That is it folks!')"
   ]
  },
  {
   "cell_type": "code",
   "execution_count": null,
   "id": "8559d44f",
   "metadata": {},
   "outputs": [],
   "source": []
  }
 ],
 "metadata": {
  "kernelspec": {
   "display_name": "Python 3 (ipykernel)",
   "language": "python",
   "name": "python3"
  },
  "language_info": {
   "codemirror_mode": {
    "name": "ipython",
    "version": 3
   },
   "file_extension": ".py",
   "mimetype": "text/x-python",
   "name": "python",
   "nbconvert_exporter": "python",
   "pygments_lexer": "ipython3",
   "version": "3.11.2"
  }
 },
 "nbformat": 4,
 "nbformat_minor": 5
}
