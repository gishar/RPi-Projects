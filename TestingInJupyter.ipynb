{
 "cells": [
  {
   "cell_type": "markdown",
   "id": "ab8a1bac",
   "metadata": {},
   "source": [
    "# testing"
   ]
  },
  {
   "cell_type": "code",
   "execution_count": 1,
   "id": "ccba611b",
   "metadata": {},
   "outputs": [],
   "source": [
    "import RPi.GPIO as GPIO\n",
    "from time import sleep"
   ]
  },
  {
   "cell_type": "code",
   "execution_count": 3,
   "id": "75f99d4b",
   "metadata": {},
   "outputs": [],
   "source": [
    "\n",
    "# Need to say which numbering convention we're using for the pins, BSM(Broadcom) or Board\n",
    "GPIO.setmode(GPIO.BOARD)\n",
    "'''\n",
    "Need to tell the pi whether our pin will function as input or output by providing the number and function.\n",
    "In our case:\n",
    "GPIO pin 40 is used to receive voltage, so it's an input pin. \n",
    "GPIO pin 38 is used to send voltage, so it's an output pin.\n",
    "(These assignments should be undone once all work/project is completed so the pins will not have a preset function assigned to them.)\n",
    "'''\n",
    "Input_Pin = 40\n",
    "Output_Pin = 38\n",
    "GPIO.setup(Input_Pin, GPIO.IN) \n",
    "GPIO.setup(Output_Pin, GPIO.OUT) "
   ]
  },
  {
   "cell_type": "code",
   "execution_count": 4,
   "id": "81214eb6",
   "metadata": {},
   "outputs": [
    {
     "name": "stdout",
     "output_type": "stream",
     "text": [
      "Light On\n"
     ]
    }
   ],
   "source": [
    "try:\n",
    "    while True:\n",
    "        Read_Value = GPIO.input(Input_Pin)\n",
    "        if Read_Value == 1:\n",
    "            GPIO.output(Output_Pin, 1)\n",
    "            print('Light On')\n",
    "            sleep(1)\n",
    "        else:\n",
    "            GPIO.output(Output_Pin, 0)\n",
    "except KeyboardInterrupt: # to exit the program properly while cleaning up the pins \n",
    "    GPIO.cleanup()"
   ]
  },
  {
   "cell_type": "code",
   "execution_count": null,
   "id": "012c7876",
   "metadata": {},
   "outputs": [],
   "source": []
  },
  {
   "cell_type": "code",
   "execution_count": null,
   "id": "44610009",
   "metadata": {},
   "outputs": [],
   "source": []
  }
 ],
 "metadata": {
  "kernelspec": {
   "display_name": "Python 3 (ipykernel)",
   "language": "python",
   "name": "python3"
  },
  "language_info": {
   "codemirror_mode": {
    "name": "ipython",
    "version": 3
   },
   "file_extension": ".py",
   "mimetype": "text/x-python",
   "name": "python",
   "nbconvert_exporter": "python",
   "pygments_lexer": "ipython3",
   "version": "3.11.2"
  }
 },
 "nbformat": 4,
 "nbformat_minor": 5
}
